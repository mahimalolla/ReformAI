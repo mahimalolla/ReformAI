{
  "nbformat": 4,
  "nbformat_minor": 0,
  "metadata": {
    "colab": {
      "provenance": []
    },
    "kernelspec": {
      "name": "python3",
      "display_name": "Python 3"
    },
    "language_info": {
      "name": "python"
    }
  },
  "cells": [
    {
      "cell_type": "code",
      "source": [
        "!pip install xgboost pandas scikit-learn matplotlib seaborn\n",
        "\n",
        "# Step 2: Import Required Libraries\n",
        "import pandas as pd\n",
        "import numpy as np\n",
        "import matplotlib.pyplot as plt\n",
        "import seaborn as sns\n",
        "from sklearn.model_selection import train_test_split\n",
        "from sklearn.preprocessing import OrdinalEncoder, MinMaxScaler\n",
        "from sklearn.metrics import mean_absolute_error, accuracy_score, confusion_matrix\n",
        "import xgboost as xgb\n",
        "\n",
        "# Step 3: Load the Dataset\n",
        "from google.colab import files\n",
        "uploaded = files.upload()\n",
        "\n",
        "# Get the filename dynamically\n",
        "filename = list(uploaded.keys())[0]\n",
        "df = pd.read_csv(filename)"
      ],
      "metadata": {
        "colab": {
          "base_uri": "https://localhost:8080/",
          "height": 469
        },
        "id": "70nrRC2WCYFz",
        "outputId": "ef3e4585-a33a-4167-e8fd-6b06fbef96f5"
      },
      "execution_count": 1,
      "outputs": [
        {
          "output_type": "stream",
          "name": "stdout",
          "text": [
            "Requirement already satisfied: xgboost in /usr/local/lib/python3.11/dist-packages (2.1.4)\n",
            "Requirement already satisfied: pandas in /usr/local/lib/python3.11/dist-packages (2.2.2)\n",
            "Requirement already satisfied: scikit-learn in /usr/local/lib/python3.11/dist-packages (1.6.1)\n",
            "Requirement already satisfied: matplotlib in /usr/local/lib/python3.11/dist-packages (3.10.0)\n",
            "Requirement already satisfied: seaborn in /usr/local/lib/python3.11/dist-packages (0.13.2)\n",
            "Requirement already satisfied: numpy in /usr/local/lib/python3.11/dist-packages (from xgboost) (1.26.4)\n",
            "Requirement already satisfied: nvidia-nccl-cu12 in /usr/local/lib/python3.11/dist-packages (from xgboost) (2.21.5)\n",
            "Requirement already satisfied: scipy in /usr/local/lib/python3.11/dist-packages (from xgboost) (1.13.1)\n",
            "Requirement already satisfied: python-dateutil>=2.8.2 in /usr/local/lib/python3.11/dist-packages (from pandas) (2.8.2)\n",
            "Requirement already satisfied: pytz>=2020.1 in /usr/local/lib/python3.11/dist-packages (from pandas) (2025.1)\n",
            "Requirement already satisfied: tzdata>=2022.7 in /usr/local/lib/python3.11/dist-packages (from pandas) (2025.1)\n",
            "Requirement already satisfied: joblib>=1.2.0 in /usr/local/lib/python3.11/dist-packages (from scikit-learn) (1.4.2)\n",
            "Requirement already satisfied: threadpoolctl>=3.1.0 in /usr/local/lib/python3.11/dist-packages (from scikit-learn) (3.5.0)\n",
            "Requirement already satisfied: contourpy>=1.0.1 in /usr/local/lib/python3.11/dist-packages (from matplotlib) (1.3.1)\n",
            "Requirement already satisfied: cycler>=0.10 in /usr/local/lib/python3.11/dist-packages (from matplotlib) (0.12.1)\n",
            "Requirement already satisfied: fonttools>=4.22.0 in /usr/local/lib/python3.11/dist-packages (from matplotlib) (4.56.0)\n",
            "Requirement already satisfied: kiwisolver>=1.3.1 in /usr/local/lib/python3.11/dist-packages (from matplotlib) (1.4.8)\n",
            "Requirement already satisfied: packaging>=20.0 in /usr/local/lib/python3.11/dist-packages (from matplotlib) (24.2)\n",
            "Requirement already satisfied: pillow>=8 in /usr/local/lib/python3.11/dist-packages (from matplotlib) (11.1.0)\n",
            "Requirement already satisfied: pyparsing>=2.3.1 in /usr/local/lib/python3.11/dist-packages (from matplotlib) (3.2.1)\n",
            "Requirement already satisfied: six>=1.5 in /usr/local/lib/python3.11/dist-packages (from python-dateutil>=2.8.2->pandas) (1.17.0)\n"
          ]
        },
        {
          "output_type": "display_data",
          "data": {
            "text/plain": [
              "<IPython.core.display.HTML object>"
            ],
            "text/html": [
              "\n",
              "     <input type=\"file\" id=\"files-c513e7d9-4999-49ff-9576-9f71229570b6\" name=\"files[]\" multiple disabled\n",
              "        style=\"border:none\" />\n",
              "     <output id=\"result-c513e7d9-4999-49ff-9576-9f71229570b6\">\n",
              "      Upload widget is only available when the cell has been executed in the\n",
              "      current browser session. Please rerun this cell to enable.\n",
              "      </output>\n",
              "      <script>// Copyright 2017 Google LLC\n",
              "//\n",
              "// Licensed under the Apache License, Version 2.0 (the \"License\");\n",
              "// you may not use this file except in compliance with the License.\n",
              "// You may obtain a copy of the License at\n",
              "//\n",
              "//      http://www.apache.org/licenses/LICENSE-2.0\n",
              "//\n",
              "// Unless required by applicable law or agreed to in writing, software\n",
              "// distributed under the License is distributed on an \"AS IS\" BASIS,\n",
              "// WITHOUT WARRANTIES OR CONDITIONS OF ANY KIND, either express or implied.\n",
              "// See the License for the specific language governing permissions and\n",
              "// limitations under the License.\n",
              "\n",
              "/**\n",
              " * @fileoverview Helpers for google.colab Python module.\n",
              " */\n",
              "(function(scope) {\n",
              "function span(text, styleAttributes = {}) {\n",
              "  const element = document.createElement('span');\n",
              "  element.textContent = text;\n",
              "  for (const key of Object.keys(styleAttributes)) {\n",
              "    element.style[key] = styleAttributes[key];\n",
              "  }\n",
              "  return element;\n",
              "}\n",
              "\n",
              "// Max number of bytes which will be uploaded at a time.\n",
              "const MAX_PAYLOAD_SIZE = 100 * 1024;\n",
              "\n",
              "function _uploadFiles(inputId, outputId) {\n",
              "  const steps = uploadFilesStep(inputId, outputId);\n",
              "  const outputElement = document.getElementById(outputId);\n",
              "  // Cache steps on the outputElement to make it available for the next call\n",
              "  // to uploadFilesContinue from Python.\n",
              "  outputElement.steps = steps;\n",
              "\n",
              "  return _uploadFilesContinue(outputId);\n",
              "}\n",
              "\n",
              "// This is roughly an async generator (not supported in the browser yet),\n",
              "// where there are multiple asynchronous steps and the Python side is going\n",
              "// to poll for completion of each step.\n",
              "// This uses a Promise to block the python side on completion of each step,\n",
              "// then passes the result of the previous step as the input to the next step.\n",
              "function _uploadFilesContinue(outputId) {\n",
              "  const outputElement = document.getElementById(outputId);\n",
              "  const steps = outputElement.steps;\n",
              "\n",
              "  const next = steps.next(outputElement.lastPromiseValue);\n",
              "  return Promise.resolve(next.value.promise).then((value) => {\n",
              "    // Cache the last promise value to make it available to the next\n",
              "    // step of the generator.\n",
              "    outputElement.lastPromiseValue = value;\n",
              "    return next.value.response;\n",
              "  });\n",
              "}\n",
              "\n",
              "/**\n",
              " * Generator function which is called between each async step of the upload\n",
              " * process.\n",
              " * @param {string} inputId Element ID of the input file picker element.\n",
              " * @param {string} outputId Element ID of the output display.\n",
              " * @return {!Iterable<!Object>} Iterable of next steps.\n",
              " */\n",
              "function* uploadFilesStep(inputId, outputId) {\n",
              "  const inputElement = document.getElementById(inputId);\n",
              "  inputElement.disabled = false;\n",
              "\n",
              "  const outputElement = document.getElementById(outputId);\n",
              "  outputElement.innerHTML = '';\n",
              "\n",
              "  const pickedPromise = new Promise((resolve) => {\n",
              "    inputElement.addEventListener('change', (e) => {\n",
              "      resolve(e.target.files);\n",
              "    });\n",
              "  });\n",
              "\n",
              "  const cancel = document.createElement('button');\n",
              "  inputElement.parentElement.appendChild(cancel);\n",
              "  cancel.textContent = 'Cancel upload';\n",
              "  const cancelPromise = new Promise((resolve) => {\n",
              "    cancel.onclick = () => {\n",
              "      resolve(null);\n",
              "    };\n",
              "  });\n",
              "\n",
              "  // Wait for the user to pick the files.\n",
              "  const files = yield {\n",
              "    promise: Promise.race([pickedPromise, cancelPromise]),\n",
              "    response: {\n",
              "      action: 'starting',\n",
              "    }\n",
              "  };\n",
              "\n",
              "  cancel.remove();\n",
              "\n",
              "  // Disable the input element since further picks are not allowed.\n",
              "  inputElement.disabled = true;\n",
              "\n",
              "  if (!files) {\n",
              "    return {\n",
              "      response: {\n",
              "        action: 'complete',\n",
              "      }\n",
              "    };\n",
              "  }\n",
              "\n",
              "  for (const file of files) {\n",
              "    const li = document.createElement('li');\n",
              "    li.append(span(file.name, {fontWeight: 'bold'}));\n",
              "    li.append(span(\n",
              "        `(${file.type || 'n/a'}) - ${file.size} bytes, ` +\n",
              "        `last modified: ${\n",
              "            file.lastModifiedDate ? file.lastModifiedDate.toLocaleDateString() :\n",
              "                                    'n/a'} - `));\n",
              "    const percent = span('0% done');\n",
              "    li.appendChild(percent);\n",
              "\n",
              "    outputElement.appendChild(li);\n",
              "\n",
              "    const fileDataPromise = new Promise((resolve) => {\n",
              "      const reader = new FileReader();\n",
              "      reader.onload = (e) => {\n",
              "        resolve(e.target.result);\n",
              "      };\n",
              "      reader.readAsArrayBuffer(file);\n",
              "    });\n",
              "    // Wait for the data to be ready.\n",
              "    let fileData = yield {\n",
              "      promise: fileDataPromise,\n",
              "      response: {\n",
              "        action: 'continue',\n",
              "      }\n",
              "    };\n",
              "\n",
              "    // Use a chunked sending to avoid message size limits. See b/62115660.\n",
              "    let position = 0;\n",
              "    do {\n",
              "      const length = Math.min(fileData.byteLength - position, MAX_PAYLOAD_SIZE);\n",
              "      const chunk = new Uint8Array(fileData, position, length);\n",
              "      position += length;\n",
              "\n",
              "      const base64 = btoa(String.fromCharCode.apply(null, chunk));\n",
              "      yield {\n",
              "        response: {\n",
              "          action: 'append',\n",
              "          file: file.name,\n",
              "          data: base64,\n",
              "        },\n",
              "      };\n",
              "\n",
              "      let percentDone = fileData.byteLength === 0 ?\n",
              "          100 :\n",
              "          Math.round((position / fileData.byteLength) * 100);\n",
              "      percent.textContent = `${percentDone}% done`;\n",
              "\n",
              "    } while (position < fileData.byteLength);\n",
              "  }\n",
              "\n",
              "  // All done.\n",
              "  yield {\n",
              "    response: {\n",
              "      action: 'complete',\n",
              "    }\n",
              "  };\n",
              "}\n",
              "\n",
              "scope.google = scope.google || {};\n",
              "scope.google.colab = scope.google.colab || {};\n",
              "scope.google.colab._files = {\n",
              "  _uploadFiles,\n",
              "  _uploadFilesContinue,\n",
              "};\n",
              "})(self);\n",
              "</script> "
            ]
          },
          "metadata": {}
        },
        {
          "output_type": "stream",
          "name": "stdout",
          "text": [
            "Saving NIJ_s_Recidivism_Challenge_Full_Dataset_20250222.csv to NIJ_s_Recidivism_Challenge_Full_Dataset_20250222 (2).csv\n"
          ]
        }
      ]
    },
    {
      "cell_type": "code",
      "source": [
        "# prompt: write me the column names\n",
        "\n",
        "df.columns\n"
      ],
      "metadata": {
        "id": "CyVC9U-X1hrg",
        "colab": {
          "base_uri": "https://localhost:8080/"
        },
        "outputId": "cb17baf4-c63f-4dbf-dda8-234dbdde0944"
      },
      "execution_count": 2,
      "outputs": [
        {
          "output_type": "execute_result",
          "data": {
            "text/plain": [
              "Index(['ID', 'Gender', 'Race', 'Age_at_Release', 'Residence_PUMA',\n",
              "       'Gang_Affiliated', 'Supervision_Risk_Score_First',\n",
              "       'Supervision_Level_First', 'Education_Level', 'Dependents',\n",
              "       'Prison_Offense', 'Prison_Years', 'Prior_Arrest_Episodes_Felony',\n",
              "       'Prior_Arrest_Episodes_Misd', 'Prior_Arrest_Episodes_Violent',\n",
              "       'Prior_Arrest_Episodes_Property', 'Prior_Arrest_Episodes_Drug',\n",
              "       'Prior_Arrest_Episodes_PPViolationCharges',\n",
              "       'Prior_Arrest_Episodes_DVCharges', 'Prior_Arrest_Episodes_GunCharges',\n",
              "       'Prior_Conviction_Episodes_Felony', 'Prior_Conviction_Episodes_Misd',\n",
              "       'Prior_Conviction_Episodes_Viol', 'Prior_Conviction_Episodes_Prop',\n",
              "       'Prior_Conviction_Episodes_Drug',\n",
              "       'Prior_Conviction_Episodes_PPViolationCharges',\n",
              "       'Prior_Conviction_Episodes_DomesticViolenceCharges',\n",
              "       'Prior_Conviction_Episodes_GunCharges', 'Prior_Revocations_Parole',\n",
              "       'Prior_Revocations_Probation', 'Condition_MH_SA', 'Condition_Cog_Ed',\n",
              "       'Condition_Other', 'Violations_ElectronicMonitoring',\n",
              "       'Violations_Instruction', 'Violations_FailToReport',\n",
              "       'Violations_MoveWithoutPermission', 'Delinquency_Reports',\n",
              "       'Program_Attendances', 'Program_UnexcusedAbsences', 'Residence_Changes',\n",
              "       'Avg_Days_per_DrugTest', 'DrugTests_THC_Positive',\n",
              "       'DrugTests_Cocaine_Positive', 'DrugTests_Meth_Positive',\n",
              "       'DrugTests_Other_Positive', 'Percent_Days_Employed', 'Jobs_Per_Year',\n",
              "       'Employment_Exempt', 'Recidivism_Within_3years',\n",
              "       'Recidivism_Arrest_Year1', 'Recidivism_Arrest_Year2',\n",
              "       'Recidivism_Arrest_Year3', 'Training_Sample'],\n",
              "      dtype='object')"
            ]
          },
          "metadata": {},
          "execution_count": 2
        }
      ]
    },
    {
      "cell_type": "code",
      "source": [
        "# prompt: subset me a dataset with only these columns: \"Age_at_Release\", 'Supervision_Risk_Score_First', \"Education_Level\", 'Prison_Offense', Prior_Arrest_Episodes_Felony',\n",
        "#        'Prior_Arrest_Episodes_Misd', 'Prior_Arrest_Episodes_Violent',\n",
        "#        'Prior_Arrest_Episodes_Property', 'Prior_Arrest_Episodes_Drug',\n",
        "#        'Prior_Arrest_Episodes_PPViolationCharges',\n",
        "#        'Prior_Arrest_Episodes_DVCharges', 'Prior_Arrest_Episodes_GunCharges', 'Percent_Days_Employed', 'Recidivism_Arrest_Year1', 'Recidivism_Arrest_Year2',\n",
        "#        'Recidivism_Arrest_Year3'\n",
        "\n",
        "selected_columns = [\"Age_at_Release\", 'Supervision_Risk_Score_First', \"Education_Level\", 'Prison_Offense', 'Prior_Arrest_Episodes_Felony',\n",
        "       'Prior_Arrest_Episodes_Misd', 'Prior_Arrest_Episodes_Violent',\n",
        "       'Prior_Arrest_Episodes_Property', 'Prior_Arrest_Episodes_Drug',\n",
        "       'Prior_Arrest_Episodes_PPViolationCharges',\n",
        "       'Prior_Arrest_Episodes_DVCharges', 'Prior_Arrest_Episodes_GunCharges', 'Percent_Days_Employed', 'Recidivism_Arrest_Year1', 'Recidivism_Arrest_Year2',\n",
        "       'Recidivism_Arrest_Year3']\n",
        "\n",
        "subset_df = df[selected_columns]\n",
        "print(subset_df.head())\n"
      ],
      "metadata": {
        "colab": {
          "base_uri": "https://localhost:8080/"
        },
        "id": "7XncvqN9apcd",
        "outputId": "d6441ab8-6e40-4a47-ffaa-ea9f3e827a3b"
      },
      "execution_count": 3,
      "outputs": [
        {
          "output_type": "stream",
          "name": "stdout",
          "text": [
            "  Age_at_Release  Supervision_Risk_Score_First        Education_Level  \\\n",
            "0          43-47                           3.0  At least some college   \n",
            "1          33-37                           6.0   Less than HS diploma   \n",
            "2    48 or older                           7.0  At least some college   \n",
            "3          38-42                           7.0   Less than HS diploma   \n",
            "4          33-37                           4.0   Less than HS diploma   \n",
            "\n",
            "    Prison_Offense Prior_Arrest_Episodes_Felony Prior_Arrest_Episodes_Misd  \\\n",
            "0             Drug                            6                  6 or more   \n",
            "1  Violent/Non-Sex                            7                  6 or more   \n",
            "2             Drug                            6                  6 or more   \n",
            "3         Property                            8                  6 or more   \n",
            "4  Violent/Non-Sex                            4                          4   \n",
            "\n",
            "  Prior_Arrest_Episodes_Violent Prior_Arrest_Episodes_Property  \\\n",
            "0                             1                              3   \n",
            "1                     3 or more                              0   \n",
            "2                     3 or more                              2   \n",
            "3                             0                              3   \n",
            "4                     3 or more                              2   \n",
            "\n",
            "  Prior_Arrest_Episodes_Drug Prior_Arrest_Episodes_PPViolationCharges  \\\n",
            "0                          3                                        4   \n",
            "1                          3                                5 or more   \n",
            "2                          2                                5 or more   \n",
            "3                          3                                        3   \n",
            "4                          1                                        3   \n",
            "\n",
            "   Prior_Arrest_Episodes_DVCharges  Prior_Arrest_Episodes_GunCharges  \\\n",
            "0                            False                             False   \n",
            "1                             True                             False   \n",
            "2                             True                             False   \n",
            "3                            False                             False   \n",
            "4                             True                             False   \n",
            "\n",
            "   Percent_Days_Employed  Recidivism_Arrest_Year1  Recidivism_Arrest_Year2  \\\n",
            "0               0.488562                    False                    False   \n",
            "1               0.425234                    False                    False   \n",
            "2               0.000000                    False                     True   \n",
            "3               1.000000                    False                    False   \n",
            "4               0.203562                     True                    False   \n",
            "\n",
            "   Recidivism_Arrest_Year3  \n",
            "0                    False  \n",
            "1                     True  \n",
            "2                    False  \n",
            "3                    False  \n",
            "4                    False  \n"
          ]
        }
      ]
    },
    {
      "cell_type": "code",
      "source": [
        "# prompt: can you show me the unique values in each of these columns in subset df\n",
        "\n",
        "for col in subset_df.columns:\n",
        "    print(f\"Unique values in column '{col}': {subset_df[col].unique()}\")\n"
      ],
      "metadata": {
        "colab": {
          "base_uri": "https://localhost:8080/"
        },
        "id": "ePMW91n5b4Zv",
        "outputId": "9988ef1e-d6b0-47ad-a7ac-5c3d29d54895"
      },
      "execution_count": 4,
      "outputs": [
        {
          "output_type": "stream",
          "name": "stdout",
          "text": [
            "Unique values in column 'Age_at_Release': ['43-47' '33-37' '48 or older' '38-42' '18-22' '23-27' '28-32']\n",
            "Unique values in column 'Supervision_Risk_Score_First': [ 3.  6.  7.  4.  5.  2.  1. 10.  9.  8. nan]\n",
            "Unique values in column 'Education_Level': ['At least some college' 'Less than HS diploma' 'High School Diploma']\n",
            "Unique values in column 'Prison_Offense': ['Drug' 'Violent/Non-Sex' 'Property' nan 'Other' 'Violent/Sex']\n",
            "Unique values in column 'Prior_Arrest_Episodes_Felony': ['6' '7' '8' '4' '10 or more' '3' '9' '2' '5' '1' '0']\n",
            "Unique values in column 'Prior_Arrest_Episodes_Misd': ['6 or more' '4' '0' '1' '3' '5' '2']\n",
            "Unique values in column 'Prior_Arrest_Episodes_Violent': ['1' '3 or more' '0' '2']\n",
            "Unique values in column 'Prior_Arrest_Episodes_Property': ['3' '0' '2' '5 or more' '1' '4']\n",
            "Unique values in column 'Prior_Arrest_Episodes_Drug': ['3' '2' '1' '0' '5 or more' '4']\n",
            "Unique values in column 'Prior_Arrest_Episodes_PPViolationCharges': ['4' '5 or more' '3' '0' '1' '2']\n",
            "Unique values in column 'Prior_Arrest_Episodes_DVCharges': [False  True]\n",
            "Unique values in column 'Prior_Arrest_Episodes_GunCharges': [False  True]\n",
            "Unique values in column 'Percent_Days_Employed': [0.48856209 0.42523364 0.         ... 0.75709779 0.71113831 0.12445415]\n",
            "Unique values in column 'Recidivism_Arrest_Year1': [False  True]\n",
            "Unique values in column 'Recidivism_Arrest_Year2': [False  True]\n",
            "Unique values in column 'Recidivism_Arrest_Year3': [False  True]\n"
          ]
        }
      ]
    },
    {
      "cell_type": "markdown",
      "source": [
        "So, until now we have our required columns, just need to clean it to not have any missing values."
      ],
      "metadata": {
        "id": "YDqJa_-2cI36"
      }
    },
    {
      "cell_type": "code",
      "source": [
        "# prompt: drop any rows with 'nan', and then again print the unique columns\n",
        "\n",
        "subset_df = subset_df.dropna()\n",
        "\n",
        "for col in subset_df.columns:\n",
        "    print(f\"Unique values in column '{col}': {subset_df[col].unique()}\")\n"
      ],
      "metadata": {
        "colab": {
          "base_uri": "https://localhost:8080/"
        },
        "id": "Q1wy1VeScOVb",
        "outputId": "0ed0f2e5-a05f-46d9-d79e-7326a8aa6c99"
      },
      "execution_count": 5,
      "outputs": [
        {
          "output_type": "stream",
          "name": "stdout",
          "text": [
            "Unique values in column 'Age_at_Release': ['43-47' '33-37' '48 or older' '38-42' '18-22' '28-32' '23-27']\n",
            "Unique values in column 'Supervision_Risk_Score_First': [ 3.  6.  7.  4.  5.  1.  2. 10.  9.  8.]\n",
            "Unique values in column 'Education_Level': ['At least some college' 'Less than HS diploma' 'High School Diploma']\n",
            "Unique values in column 'Prison_Offense': ['Drug' 'Violent/Non-Sex' 'Property' 'Other' 'Violent/Sex']\n",
            "Unique values in column 'Prior_Arrest_Episodes_Felony': ['6' '7' '8' '4' '10 or more' '3' '9' '2' '5' '1' '0']\n",
            "Unique values in column 'Prior_Arrest_Episodes_Misd': ['6 or more' '4' '0' '1' '3' '5' '2']\n",
            "Unique values in column 'Prior_Arrest_Episodes_Violent': ['1' '3 or more' '0' '2']\n",
            "Unique values in column 'Prior_Arrest_Episodes_Property': ['3' '0' '2' '1' '5 or more' '4']\n",
            "Unique values in column 'Prior_Arrest_Episodes_Drug': ['3' '2' '1' '0' '5 or more' '4']\n",
            "Unique values in column 'Prior_Arrest_Episodes_PPViolationCharges': ['4' '5 or more' '3' '0' '1' '2']\n",
            "Unique values in column 'Prior_Arrest_Episodes_DVCharges': [False  True]\n",
            "Unique values in column 'Prior_Arrest_Episodes_GunCharges': [False  True]\n",
            "Unique values in column 'Percent_Days_Employed': [0.48856209 0.42523364 0.         ... 0.43492587 0.57474227 0.18151815]\n",
            "Unique values in column 'Recidivism_Arrest_Year1': [False  True]\n",
            "Unique values in column 'Recidivism_Arrest_Year2': [False  True]\n",
            "Unique values in column 'Recidivism_Arrest_Year3': [False  True]\n"
          ]
        }
      ]
    },
    {
      "cell_type": "markdown",
      "source": [
        "Age_at_Release: Encode as ordinal values (e.g., 18-22 → 1, 23-27 → 2, etc.).\n",
        "Education_Level: Encode as ordinal values (e.g., Less than HS → 1, HS Diploma → 2, College → 3).\n",
        "Prison_Offense: One-hot encode offense type (Drug, Violent, Property, etc.)."
      ],
      "metadata": {
        "id": "_CDYDPa5dzYh"
      }
    },
    {
      "cell_type": "code",
      "source": [
        "# prompt: Age_at_Release: Encode as ordinal values (e.g., 18-22 → 1, 23-27 → 2, etc.)\n",
        "\n",
        "# Create a mapping for Age_at_Release\n",
        "age_mapping = {\n",
        "    '18-22': 1,\n",
        "    '23-27': 2,\n",
        "    '28-32': 3,\n",
        "    '33-37': 4,\n",
        "    '38-42': 5,\n",
        "    '43-47': 6,\n",
        "    '48 or older': 7\n",
        "}\n",
        "\n",
        "# Apply the mapping to the 'Age_at_Release' column\n",
        "subset_df['Age_at_Release'] = subset_df['Age_at_Release'].map(age_mapping)\n"
      ],
      "metadata": {
        "id": "b9VFnUvLd0dr"
      },
      "execution_count": 6,
      "outputs": []
    },
    {
      "cell_type": "code",
      "source": [
        "# prompt: Education_Level: Encode as ordinal values (e.g., Less than HS → 1, HS Diploma → 2, College → 3)\n",
        "# Unique values in column 'Education_Level': ['At least some college' 'Less than HS diploma' 'High School Diploma']\n",
        "\n",
        "# Create a mapping for Education_Level\n",
        "education_mapping = {\n",
        "    'Less than HS diploma': 1,\n",
        "    'High School Diploma': 2,\n",
        "    'At least some college': 3\n",
        "}\n",
        "\n",
        "# Apply the mapping to the 'Education_Level' column\n",
        "subset_df['Education_Level'] = subset_df['Education_Level'].map(education_mapping)\n"
      ],
      "metadata": {
        "id": "qiH2zgPNd7wM"
      },
      "execution_count": 7,
      "outputs": []
    },
    {
      "cell_type": "code",
      "source": [
        "# prompt: Prison_Offense: One-hot encode offense type (Drug, Violent, Property, etc.)\n",
        "# Unique values in column 'Prison_Offense': ['Drug' 'Violent/Non-Sex' 'Property' 'Other' 'Violent/Sex']\n",
        "\n",
        "# Perform one-hot encoding on 'Prison_Offense'\n",
        "prison_offense_encoded = pd.get_dummies(subset_df['Prison_Offense'], prefix='Prison_Offense')\n",
        "\n",
        "# Concatenate the one-hot encoded columns with the original DataFrame\n",
        "subset_df = pd.concat([subset_df, prison_offense_encoded], axis=1)\n",
        "\n",
        "# Drop the original 'Prison_Offense' column\n",
        "subset_df = subset_df.drop('Prison_Offense', axis=1)\n"
      ],
      "metadata": {
        "id": "QShQ52L1ebR4"
      },
      "execution_count": 8,
      "outputs": []
    },
    {
      "cell_type": "code",
      "source": [
        "# prompt: now show the unique values in each columns\n",
        "\n",
        "for col in subset_df.columns:\n",
        "    print(f\"Unique values in column '{col}': {subset_df[col].unique()}\")\n"
      ],
      "metadata": {
        "colab": {
          "base_uri": "https://localhost:8080/"
        },
        "id": "s_a8EZj-fCnk",
        "outputId": "a71cc04f-39b8-48c7-e271-625cada178be"
      },
      "execution_count": 9,
      "outputs": [
        {
          "output_type": "stream",
          "name": "stdout",
          "text": [
            "Unique values in column 'Age_at_Release': [6 4 7 5 1 3 2]\n",
            "Unique values in column 'Supervision_Risk_Score_First': [ 3.  6.  7.  4.  5.  1.  2. 10.  9.  8.]\n",
            "Unique values in column 'Education_Level': [3 1 2]\n",
            "Unique values in column 'Prior_Arrest_Episodes_Felony': ['6' '7' '8' '4' '10 or more' '3' '9' '2' '5' '1' '0']\n",
            "Unique values in column 'Prior_Arrest_Episodes_Misd': ['6 or more' '4' '0' '1' '3' '5' '2']\n",
            "Unique values in column 'Prior_Arrest_Episodes_Violent': ['1' '3 or more' '0' '2']\n",
            "Unique values in column 'Prior_Arrest_Episodes_Property': ['3' '0' '2' '1' '5 or more' '4']\n",
            "Unique values in column 'Prior_Arrest_Episodes_Drug': ['3' '2' '1' '0' '5 or more' '4']\n",
            "Unique values in column 'Prior_Arrest_Episodes_PPViolationCharges': ['4' '5 or more' '3' '0' '1' '2']\n",
            "Unique values in column 'Prior_Arrest_Episodes_DVCharges': [False  True]\n",
            "Unique values in column 'Prior_Arrest_Episodes_GunCharges': [False  True]\n",
            "Unique values in column 'Percent_Days_Employed': [0.48856209 0.42523364 0.         ... 0.43492587 0.57474227 0.18151815]\n",
            "Unique values in column 'Recidivism_Arrest_Year1': [False  True]\n",
            "Unique values in column 'Recidivism_Arrest_Year2': [False  True]\n",
            "Unique values in column 'Recidivism_Arrest_Year3': [False  True]\n",
            "Unique values in column 'Prison_Offense_Drug': [ True False]\n",
            "Unique values in column 'Prison_Offense_Other': [False  True]\n",
            "Unique values in column 'Prison_Offense_Property': [False  True]\n",
            "Unique values in column 'Prison_Offense_Violent/Non-Sex': [False  True]\n",
            "Unique values in column 'Prison_Offense_Violent/Sex': [False  True]\n"
          ]
        }
      ]
    },
    {
      "cell_type": "markdown",
      "source": [
        "now we have to handle or more, and delete those, and after that merge all columns with Prior_Arrest into one column by adding those values together"
      ],
      "metadata": {
        "id": "mHfkBwuHf6Yz"
      }
    },
    {
      "cell_type": "code",
      "source": [
        "# prompt: Unique values in column 'Prior_Arrest_Episodes_Felony': ['6' '7' '8' '4' '10 or more' '3' '9' '2' '5' '1' '0']\n",
        "# Unique values in column 'Prior_Arrest_Episodes_Misd': ['6 or more' '4' '0' '1' '3' '5' '2']\n",
        "# Unique values in column 'Prior_Arrest_Episodes_Violent': ['1' '3 or more' '0' '2']\n",
        "# Unique values in column 'Prior_Arrest_Episodes_Property': ['3' '0' '2' '1' '5 or more' '4']\n",
        "# Unique values in column 'Prior_Arrest_Episodes_Drug': ['3' '2' '1' '0' '5 or more' '4']\n",
        "# Unique values in column 'Prior_Arrest_Episodes_PPViolationCharges': ['4' '5 or more' '3' '0' '1' '2']\n",
        "# FOr these columns, there are '__ or more'. How can we remove that ' or more' part and only leave with numbers.\n",
        "\n",
        "# Define a function to clean the 'or more' values\n",
        "def clean_or_more(value):\n",
        "    if isinstance(value, str) and ' or more' in value:\n",
        "        return int(value.split()[0])\n",
        "    return value\n",
        "\n",
        "# Apply the cleaning function to the relevant columns\n",
        "columns_to_clean = ['Prior_Arrest_Episodes_Felony', 'Prior_Arrest_Episodes_Misd',\n",
        "                    'Prior_Arrest_Episodes_Violent', 'Prior_Arrest_Episodes_Property',\n",
        "                    'Prior_Arrest_Episodes_Drug', 'Prior_Arrest_Episodes_PPViolationCharges']\n",
        "\n",
        "for col in columns_to_clean:\n",
        "    subset_df[col] = subset_df[col].apply(clean_or_more).astype(int)\n",
        "\n",
        "for col in subset_df.columns:\n",
        "    print(f\"Unique values in column '{col}': {subset_df[col].unique()}\")\n"
      ],
      "metadata": {
        "colab": {
          "base_uri": "https://localhost:8080/"
        },
        "id": "R91Chs9zgF1Z",
        "outputId": "15d53e39-cd03-4cf9-9940-9674225a6a59"
      },
      "execution_count": 10,
      "outputs": [
        {
          "output_type": "stream",
          "name": "stdout",
          "text": [
            "Unique values in column 'Age_at_Release': [6 4 7 5 1 3 2]\n",
            "Unique values in column 'Supervision_Risk_Score_First': [ 3.  6.  7.  4.  5.  1.  2. 10.  9.  8.]\n",
            "Unique values in column 'Education_Level': [3 1 2]\n",
            "Unique values in column 'Prior_Arrest_Episodes_Felony': [ 6  7  8  4 10  3  9  2  5  1  0]\n",
            "Unique values in column 'Prior_Arrest_Episodes_Misd': [6 4 0 1 3 5 2]\n",
            "Unique values in column 'Prior_Arrest_Episodes_Violent': [1 3 0 2]\n",
            "Unique values in column 'Prior_Arrest_Episodes_Property': [3 0 2 1 5 4]\n",
            "Unique values in column 'Prior_Arrest_Episodes_Drug': [3 2 1 0 5 4]\n",
            "Unique values in column 'Prior_Arrest_Episodes_PPViolationCharges': [4 5 3 0 1 2]\n",
            "Unique values in column 'Prior_Arrest_Episodes_DVCharges': [False  True]\n",
            "Unique values in column 'Prior_Arrest_Episodes_GunCharges': [False  True]\n",
            "Unique values in column 'Percent_Days_Employed': [0.48856209 0.42523364 0.         ... 0.43492587 0.57474227 0.18151815]\n",
            "Unique values in column 'Recidivism_Arrest_Year1': [False  True]\n",
            "Unique values in column 'Recidivism_Arrest_Year2': [False  True]\n",
            "Unique values in column 'Recidivism_Arrest_Year3': [False  True]\n",
            "Unique values in column 'Prison_Offense_Drug': [ True False]\n",
            "Unique values in column 'Prison_Offense_Other': [False  True]\n",
            "Unique values in column 'Prison_Offense_Property': [False  True]\n",
            "Unique values in column 'Prison_Offense_Violent/Non-Sex': [False  True]\n",
            "Unique values in column 'Prison_Offense_Violent/Sex': [False  True]\n"
          ]
        }
      ]
    },
    {
      "cell_type": "code",
      "source": [
        "# prompt: Can we just add\n",
        "# Unique values in column 'Prior_Arrest_Episodes_Felony': [ 6  7  8  4 10  3  9  2  5  1  0]\n",
        "# Unique values in column 'Prior_Arrest_Episodes_Misd': [6 4 0 1 3 5 2]\n",
        "# Unique values in column 'Prior_Arrest_Episodes_Violent': [1 3 0 2]\n",
        "# Unique values in column 'Prior_Arrest_Episodes_Property': [3 0 2 1 5 4]\n",
        "# Unique values in column 'Prior_Arrest_Episodes_Drug': [3 2 1 0 5 4]\n",
        "# Unique values in column 'Prior_Arrest_Episodes_PPViolationCharges': [4 5 3 0 1 2]\n",
        "# into one column called Prior Arrest Episodes with value equal to the sum of the corresponding values from all these columns\n",
        "\n",
        "# Calculate the sum of prior arrest episodes\n",
        "subset_df['Prior_Arrest_Episodes'] = (subset_df['Prior_Arrest_Episodes_Felony'] +\n",
        "                                      subset_df['Prior_Arrest_Episodes_Misd'] +\n",
        "                                      subset_df['Prior_Arrest_Episodes_Violent'] +\n",
        "                                      subset_df['Prior_Arrest_Episodes_Property'] +\n",
        "                                      subset_df['Prior_Arrest_Episodes_Drug'] +\n",
        "                                      subset_df['Prior_Arrest_Episodes_PPViolationCharges'])\n",
        "\n",
        "# Drop the individual prior arrest episode columns\n",
        "subset_df = subset_df.drop(columns=['Prior_Arrest_Episodes_Felony',\n",
        "                                    'Prior_Arrest_Episodes_Misd',\n",
        "                                    'Prior_Arrest_Episodes_Violent',\n",
        "                                    'Prior_Arrest_Episodes_Property',\n",
        "                                    'Prior_Arrest_Episodes_Drug',\n",
        "                                    'Prior_Arrest_Episodes_PPViolationCharges'])\n",
        "\n",
        "for col in subset_df.columns:\n",
        "    print(f\"Unique values in column '{col}': {subset_df[col].unique()}\")\n"
      ],
      "metadata": {
        "colab": {
          "base_uri": "https://localhost:8080/"
        },
        "id": "CZ7qaO3Vgfgi",
        "outputId": "9a787a59-b09e-46cf-b0e8-02389cfd2885"
      },
      "execution_count": 11,
      "outputs": [
        {
          "output_type": "stream",
          "name": "stdout",
          "text": [
            "Unique values in column 'Age_at_Release': [6 4 7 5 1 3 2]\n",
            "Unique values in column 'Supervision_Risk_Score_First': [ 3.  6.  7.  4.  5.  1.  2. 10.  9.  8.]\n",
            "Unique values in column 'Education_Level': [3 1 2]\n",
            "Unique values in column 'Prior_Arrest_Episodes_DVCharges': [False  True]\n",
            "Unique values in column 'Prior_Arrest_Episodes_GunCharges': [False  True]\n",
            "Unique values in column 'Percent_Days_Employed': [0.48856209 0.42523364 0.         ... 0.43492587 0.57474227 0.18151815]\n",
            "Unique values in column 'Recidivism_Arrest_Year1': [False  True]\n",
            "Unique values in column 'Recidivism_Arrest_Year2': [False  True]\n",
            "Unique values in column 'Recidivism_Arrest_Year3': [False  True]\n",
            "Unique values in column 'Prison_Offense_Drug': [ True False]\n",
            "Unique values in column 'Prison_Offense_Other': [False  True]\n",
            "Unique values in column 'Prison_Offense_Property': [False  True]\n",
            "Unique values in column 'Prison_Offense_Violent/Non-Sex': [False  True]\n",
            "Unique values in column 'Prison_Offense_Violent/Sex': [False  True]\n",
            "Unique values in column 'Prior_Arrest_Episodes': [23 24 17  8 27 31 16 18 20 25 26 19 30 22 14 29 21  3 28  4 13 33 15 12\n",
            " 32  6 34 11  5 10  2  9  7  1  0]\n"
          ]
        }
      ]
    },
    {
      "cell_type": "code",
      "source": [
        "# prompt: Unique values in column 'Prior_Arrest_Episodes_DVCharges': [False  True]\n",
        "# Unique values in column 'Prior_Arrest_Episodes_GunCharges': [False  True]\n",
        "# Merge this also into this: 'Prior_Arrest_Episodes_Drug_or_Gun_Charges' and have value of 0 if both False, or 1 if any of them true, and drop those two columns\n",
        "\n",
        "# Create 'Prior_Arrest_Episodes_Drug_or_Gun_Charges' column\n",
        "subset_df['Prior_Arrest_Episodes_Drug_or_Gun_Charges'] = ((subset_df['Prior_Arrest_Episodes_DVCharges'] == True) |\n",
        "                                                        (subset_df['Prior_Arrest_Episodes_GunCharges'] == True)).astype(int)\n",
        "\n",
        "# Drop the original columns\n",
        "subset_df = subset_df.drop(columns=['Prior_Arrest_Episodes_DVCharges', 'Prior_Arrest_Episodes_GunCharges'])\n",
        "\n",
        "for col in subset_df.columns:\n",
        "    print(f\"Unique values in column '{col}': {subset_df[col].unique()}\")\n"
      ],
      "metadata": {
        "colab": {
          "base_uri": "https://localhost:8080/"
        },
        "id": "GW-Mjr65g_Ns",
        "outputId": "7baf7512-cb77-4e8b-83a0-35dcb55724e0"
      },
      "execution_count": 12,
      "outputs": [
        {
          "output_type": "stream",
          "name": "stdout",
          "text": [
            "Unique values in column 'Age_at_Release': [6 4 7 5 1 3 2]\n",
            "Unique values in column 'Supervision_Risk_Score_First': [ 3.  6.  7.  4.  5.  1.  2. 10.  9.  8.]\n",
            "Unique values in column 'Education_Level': [3 1 2]\n",
            "Unique values in column 'Percent_Days_Employed': [0.48856209 0.42523364 0.         ... 0.43492587 0.57474227 0.18151815]\n",
            "Unique values in column 'Recidivism_Arrest_Year1': [False  True]\n",
            "Unique values in column 'Recidivism_Arrest_Year2': [False  True]\n",
            "Unique values in column 'Recidivism_Arrest_Year3': [False  True]\n",
            "Unique values in column 'Prison_Offense_Drug': [ True False]\n",
            "Unique values in column 'Prison_Offense_Other': [False  True]\n",
            "Unique values in column 'Prison_Offense_Property': [False  True]\n",
            "Unique values in column 'Prison_Offense_Violent/Non-Sex': [False  True]\n",
            "Unique values in column 'Prison_Offense_Violent/Sex': [False  True]\n",
            "Unique values in column 'Prior_Arrest_Episodes': [23 24 17  8 27 31 16 18 20 25 26 19 30 22 14 29 21  3 28  4 13 33 15 12\n",
            " 32  6 34 11  5 10  2  9  7  1  0]\n",
            "Unique values in column 'Prior_Arrest_Episodes_Drug_or_Gun_Charges': [0 1]\n"
          ]
        }
      ]
    },
    {
      "cell_type": "code",
      "source": [
        "# prompt: Similarly,\n",
        "# Unique values in column 'Recidivism_Arrest_Year1': [False  True]\n",
        "# Unique values in column 'Recidivism_Arrest_Year2': [False  True]\n",
        "# Unique values in column 'Recidivism_Arrest_Year3': [False  True]\n",
        "# Can we also add \"Recidivsim_Arrest_Last_3_Years\" where if all three False, we can put 0 else 1, and then drop rest of the columns\n",
        "\n",
        "# Create 'Recidivism_Arrest_Last_3_Years' column\n",
        "subset_df['Recidivism_Arrest_Last_3_Years'] = ((subset_df['Recidivism_Arrest_Year1'] == True) |\n",
        "                                             (subset_df['Recidivism_Arrest_Year2'] == True) |\n",
        "                                             (subset_df['Recidivism_Arrest_Year3'] == True)).astype(int)\n",
        "\n",
        "# Drop the original recidivism columns\n",
        "subset_df = subset_df.drop(columns=['Recidivism_Arrest_Year1', 'Recidivism_Arrest_Year2', 'Recidivism_Arrest_Year3'])\n",
        "\n",
        "for col in subset_df.columns:\n",
        "    print(f\"Unique values in column '{col}': {subset_df[col].unique()}\")\n"
      ],
      "metadata": {
        "colab": {
          "base_uri": "https://localhost:8080/"
        },
        "id": "g8NoHqNfhc2z",
        "outputId": "ae4e7661-499d-4ffd-9aba-c620d51eeeac"
      },
      "execution_count": 13,
      "outputs": [
        {
          "output_type": "stream",
          "name": "stdout",
          "text": [
            "Unique values in column 'Age_at_Release': [6 4 7 5 1 3 2]\n",
            "Unique values in column 'Supervision_Risk_Score_First': [ 3.  6.  7.  4.  5.  1.  2. 10.  9.  8.]\n",
            "Unique values in column 'Education_Level': [3 1 2]\n",
            "Unique values in column 'Percent_Days_Employed': [0.48856209 0.42523364 0.         ... 0.43492587 0.57474227 0.18151815]\n",
            "Unique values in column 'Prison_Offense_Drug': [ True False]\n",
            "Unique values in column 'Prison_Offense_Other': [False  True]\n",
            "Unique values in column 'Prison_Offense_Property': [False  True]\n",
            "Unique values in column 'Prison_Offense_Violent/Non-Sex': [False  True]\n",
            "Unique values in column 'Prison_Offense_Violent/Sex': [False  True]\n",
            "Unique values in column 'Prior_Arrest_Episodes': [23 24 17  8 27 31 16 18 20 25 26 19 30 22 14 29 21  3 28  4 13 33 15 12\n",
            " 32  6 34 11  5 10  2  9  7  1  0]\n",
            "Unique values in column 'Prior_Arrest_Episodes_Drug_or_Gun_Charges': [0 1]\n",
            "Unique values in column 'Recidivism_Arrest_Last_3_Years': [0 1]\n"
          ]
        }
      ]
    },
    {
      "cell_type": "code",
      "source": [
        "# prompt: Unique values in column 'Prison_Offense_Drug': [ True False]\n",
        "# Unique values in column 'Prison_Offense_Other': [False  True]\n",
        "# Unique values in column 'Prison_Offense_Property': [False  True]\n",
        "# Unique values in column 'Prison_Offense_Violent/Non-Sex': [False  True]\n",
        "# Unique values in column 'Prison_Offense_Violent/Sex': [False  True]\n",
        "# here, check if one of them is True, is there also any other columns true out of these selected columns. Generally, I am looking for combined unique values across these columns\n",
        "\n",
        "# Define the columns to check\n",
        "offense_columns = ['Prison_Offense_Drug', 'Prison_Offense_Other', 'Prison_Offense_Property',\n",
        "                   'Prison_Offense_Violent/Non-Sex', 'Prison_Offense_Violent/Sex']\n",
        "\n",
        "# Create a new column indicating if any of the offense columns are True\n",
        "subset_df['Any_Offense'] = subset_df[offense_columns].any(axis=1).astype(int)\n",
        "\n",
        "# Create a new column to store the combined offense type\n",
        "subset_df['Combined_Offense'] = \"\"\n",
        "\n",
        "# Iterate through the rows of the DataFrame\n",
        "for index, row in subset_df.iterrows():\n",
        "    combined_offense = \"\"\n",
        "    # Check each of the offense columns\n",
        "    for col in offense_columns:\n",
        "        if row[col]:\n",
        "            if combined_offense:\n",
        "                combined_offense += \"/\" + col.replace(\"Prison_Offense_\", \"\")\n",
        "            else:\n",
        "                combined_offense = col.replace(\"Prison_Offense_\", \"\")\n",
        "    subset_df.loc[index, 'Combined_Offense'] = combined_offense\n",
        "\n",
        "# Drop individual offense columns\n",
        "subset_df = subset_df.drop(columns=offense_columns)\n",
        "\n",
        "\n",
        "for col in subset_df.columns:\n",
        "    print(f\"Unique values in column '{col}': {subset_df[col].unique()}\")\n"
      ],
      "metadata": {
        "colab": {
          "base_uri": "https://localhost:8080/"
        },
        "id": "MUaWKOzEhyG8",
        "outputId": "247a8909-582c-4566-ff08-6972a17b2346"
      },
      "execution_count": 14,
      "outputs": [
        {
          "output_type": "stream",
          "name": "stdout",
          "text": [
            "Unique values in column 'Age_at_Release': [6 4 7 5 1 3 2]\n",
            "Unique values in column 'Supervision_Risk_Score_First': [ 3.  6.  7.  4.  5.  1.  2. 10.  9.  8.]\n",
            "Unique values in column 'Education_Level': [3 1 2]\n",
            "Unique values in column 'Percent_Days_Employed': [0.48856209 0.42523364 0.         ... 0.43492587 0.57474227 0.18151815]\n",
            "Unique values in column 'Prior_Arrest_Episodes': [23 24 17  8 27 31 16 18 20 25 26 19 30 22 14 29 21  3 28  4 13 33 15 12\n",
            " 32  6 34 11  5 10  2  9  7  1  0]\n",
            "Unique values in column 'Prior_Arrest_Episodes_Drug_or_Gun_Charges': [0 1]\n",
            "Unique values in column 'Recidivism_Arrest_Last_3_Years': [0 1]\n",
            "Unique values in column 'Any_Offense': [1]\n",
            "Unique values in column 'Combined_Offense': ['Drug' 'Violent/Non-Sex' 'Property' 'Other' 'Violent/Sex']\n"
          ]
        }
      ]
    },
    {
      "cell_type": "code",
      "source": [
        "# prompt: Binning Prior Arrest Episodes\n",
        "# We will group \"Prior_Arrest_Episodes\" into three categories:\n",
        "# 0-3 arrests → Assign 0 (Low prior offenses)\n",
        "# 4-7 arrests → Assign 1 (Moderate prior offenses)\n",
        "# 8+ arrests → Assign 2 (High prior offenses)\n",
        "\n",
        "# Binning Prior_Arrest_Episodes\n",
        "def bin_prior_arrests(arrests):\n",
        "    if 0 <= arrests <= 3:\n",
        "        return 0\n",
        "    elif 4 <= arrests <= 7:\n",
        "        return 1\n",
        "    else:\n",
        "        return 2\n",
        "\n",
        "subset_df['Prior_Arrest_Episodes'] = subset_df['Prior_Arrest_Episodes'].apply(bin_prior_arrests)\n",
        "\n",
        "for col in subset_df.columns:\n",
        "    print(f\"Unique values in column '{col}': {subset_df[col].unique()}\")\n"
      ],
      "metadata": {
        "colab": {
          "base_uri": "https://localhost:8080/"
        },
        "id": "hbIYGP3zk5PW",
        "outputId": "74e988f1-ad9f-4637-b644-0e34baaac65e"
      },
      "execution_count": 15,
      "outputs": [
        {
          "output_type": "stream",
          "name": "stdout",
          "text": [
            "Unique values in column 'Age_at_Release': [6 4 7 5 1 3 2]\n",
            "Unique values in column 'Supervision_Risk_Score_First': [ 3.  6.  7.  4.  5.  1.  2. 10.  9.  8.]\n",
            "Unique values in column 'Education_Level': [3 1 2]\n",
            "Unique values in column 'Percent_Days_Employed': [0.48856209 0.42523364 0.         ... 0.43492587 0.57474227 0.18151815]\n",
            "Unique values in column 'Prior_Arrest_Episodes': [2 0 1]\n",
            "Unique values in column 'Prior_Arrest_Episodes_Drug_or_Gun_Charges': [0 1]\n",
            "Unique values in column 'Recidivism_Arrest_Last_3_Years': [0 1]\n",
            "Unique values in column 'Any_Offense': [1]\n",
            "Unique values in column 'Combined_Offense': ['Drug' 'Violent/Non-Sex' 'Property' 'Other' 'Violent/Sex']\n"
          ]
        }
      ]
    },
    {
      "cell_type": "code",
      "source": [
        "# prompt: Binning Employment Percentage\n",
        "# We will group \"Percent_Days_Employed\" into four categories:\n",
        "# 0-25% employment → Assign 0 (Very low employment)\n",
        "# 25-50% employment → Assign 1 (Low employment)\n",
        "# 50-75% employment → Assign 2 (Moderate employment)\n",
        "# 75%+ employment → Assign 3 (High employment)\n",
        "\n",
        "# Binning Percent_Days_Employed\n",
        "def bin_employment(percentage):\n",
        "    if 0 <= percentage <= 25:\n",
        "        return 0\n",
        "    elif 25 < percentage <= 50:\n",
        "        return 1\n",
        "    elif 50 < percentage <= 75:\n",
        "        return 2\n",
        "    else:\n",
        "        return 3\n",
        "\n",
        "subset_df['Percent_Days_Employed'] = subset_df['Percent_Days_Employed'].apply(bin_employment)\n",
        "\n",
        "for col in subset_df.columns:\n",
        "    print(f\"Unique values in column '{col}': {subset_df[col].unique()}\")\n"
      ],
      "metadata": {
        "colab": {
          "base_uri": "https://localhost:8080/"
        },
        "id": "zlDVpRZumCa5",
        "outputId": "050d1f67-a972-46cc-9054-6e13e2d74219"
      },
      "execution_count": 16,
      "outputs": [
        {
          "output_type": "stream",
          "name": "stdout",
          "text": [
            "Unique values in column 'Age_at_Release': [6 4 7 5 1 3 2]\n",
            "Unique values in column 'Supervision_Risk_Score_First': [ 3.  6.  7.  4.  5.  1.  2. 10.  9.  8.]\n",
            "Unique values in column 'Education_Level': [3 1 2]\n",
            "Unique values in column 'Percent_Days_Employed': [0]\n",
            "Unique values in column 'Prior_Arrest_Episodes': [2 0 1]\n",
            "Unique values in column 'Prior_Arrest_Episodes_Drug_or_Gun_Charges': [0 1]\n",
            "Unique values in column 'Recidivism_Arrest_Last_3_Years': [0 1]\n",
            "Unique values in column 'Any_Offense': [1]\n",
            "Unique values in column 'Combined_Offense': ['Drug' 'Violent/Non-Sex' 'Property' 'Other' 'Violent/Sex']\n"
          ]
        }
      ]
    },
    {
      "cell_type": "code",
      "source": [
        "# Define mapping for Combined_Offense\n",
        "combined_offense_mapping = {\n",
        "    'Drug': 0,\n",
        "    'Violent/Non-Sex': 1,\n",
        "    'Property': 2,\n",
        "    'Other': 3,\n",
        "    'Violent/Sex': 4\n",
        "}\n",
        "\n",
        "# Apply the mapping to encode 'Combined_Offense' as a single numerical column\n",
        "subset_df['Combined_Offense'] = subset_df['Combined_Offense'].map(combined_offense_mapping)\n",
        "\n",
        "# Check unique values after encoding\n",
        "print(subset_df['Combined_Offense'].unique())\n"
      ],
      "metadata": {
        "colab": {
          "base_uri": "https://localhost:8080/"
        },
        "id": "a8-EL0nCmaKI",
        "outputId": "0f3f29fa-a70e-4b2d-9f3d-81a0df61253d"
      },
      "execution_count": 17,
      "outputs": [
        {
          "output_type": "stream",
          "name": "stdout",
          "text": [
            "[0 1 2 3 4]\n"
          ]
        }
      ]
    },
    {
      "cell_type": "code",
      "source": [
        "for col in subset_df.columns:\n",
        "    print(f\"Unique values in column '{col}': {subset_df[col].unique()}\")"
      ],
      "metadata": {
        "colab": {
          "base_uri": "https://localhost:8080/"
        },
        "id": "Sfbr4nxrnQFK",
        "outputId": "c30bb339-0341-40df-cb01-709b51f486b9"
      },
      "execution_count": 19,
      "outputs": [
        {
          "output_type": "stream",
          "name": "stdout",
          "text": [
            "Unique values in column 'Age_at_Release': [6 4 7 5 1 3 2]\n",
            "Unique values in column 'Supervision_Risk_Score_First': [ 3.  6.  7.  4.  5.  1.  2. 10.  9.  8.]\n",
            "Unique values in column 'Education_Level': [3 1 2]\n",
            "Unique values in column 'Percent_Days_Employed': [0]\n",
            "Unique values in column 'Prior_Arrest_Episodes': [2 0 1]\n",
            "Unique values in column 'Prior_Arrest_Episodes_Drug_or_Gun_Charges': [0 1]\n",
            "Unique values in column 'Recidivism_Arrest_Last_3_Years': [0 1]\n",
            "Unique values in column 'Any_Offense': [1]\n",
            "Unique values in column 'Combined_Offense': [0 1 2 3 4]\n"
          ]
        }
      ]
    },
    {
      "cell_type": "code",
      "source": [
        "# Now we are ready for modelling"
      ],
      "metadata": {
        "id": "oixxirtvnhFI"
      },
      "execution_count": 20,
      "outputs": []
    },
    {
      "cell_type": "code",
      "source": [
        "# prompt: split into 80-20 and then using  'Supervision_Risk_Score_First': [ 3.  6.  7.  4.  5.  1.  2. 10.  9.  8.] column as target variable make an XGBoost model\n",
        "\n",
        "# Split data into training and testing sets (80/20 split)\n",
        "X = subset_df.drop('Supervision_Risk_Score_First', axis=1)\n",
        "y = subset_df['Supervision_Risk_Score_First']\n",
        "X_train, X_test, y_train, y_test = train_test_split(X, y, test_size=0.2, random_state=42)\n",
        "\n",
        "# Initialize and train the XGBoost model\n",
        "model = xgb.XGBRegressor(objective='reg:squarederror', random_state=42)  # Use reg:squarederror for regression\n",
        "model.fit(X_train, y_train)\n",
        "\n",
        "# Make predictions on the test set\n",
        "y_pred = model.predict(X_test)\n",
        "\n",
        "# Evaluate the model (example: Mean Absolute Error)\n",
        "mae = mean_absolute_error(y_test, y_pred)\n",
        "print(f\"Mean Absolute Error: {mae}\")\n"
      ],
      "metadata": {
        "colab": {
          "base_uri": "https://localhost:8080/"
        },
        "id": "_Legl8Ifnl_N",
        "outputId": "872d4a65-8cc5-4b51-d8bc-28228497f8d8"
      },
      "execution_count": 21,
      "outputs": [
        {
          "output_type": "stream",
          "name": "stdout",
          "text": [
            "Mean Absolute Error: 1.5976746336263976\n"
          ]
        }
      ]
    },
    {
      "cell_type": "code",
      "source": [
        "import pickle\n",
        "# Save the trained XGBoost model\n",
        "with open(\"xgboost_model.pkl\", \"wb\") as file:\n",
        "    pickle.dump(model, file)\n",
        "print(\"Model saved successfully as xgboost_model.pkl\")\n"
      ],
      "metadata": {
        "colab": {
          "base_uri": "https://localhost:8080/"
        },
        "id": "X4lOWD-mvy8O",
        "outputId": "3c5324fe-a68e-47a5-f3a1-099cf7eec7e4"
      },
      "execution_count": 22,
      "outputs": [
        {
          "output_type": "stream",
          "name": "stdout",
          "text": [
            "Model saved successfully as xgboost_model.pkl\n"
          ]
        }
      ]
    },
    {
      "cell_type": "code",
      "source": [
        "# prompt: give me top 5 rows of subset_df\n",
        "\n",
        "print(subset_df.head())\n"
      ],
      "metadata": {
        "colab": {
          "base_uri": "https://localhost:8080/"
        },
        "id": "mehOyKgEMZG5",
        "outputId": "9a3b69fd-d41c-4762-c3f1-44587e5ac9bd"
      },
      "execution_count": 23,
      "outputs": [
        {
          "output_type": "stream",
          "name": "stdout",
          "text": [
            "   Age_at_Release  Supervision_Risk_Score_First  Education_Level  \\\n",
            "0               6                           3.0                3   \n",
            "1               4                           6.0                1   \n",
            "2               7                           7.0                3   \n",
            "3               5                           7.0                1   \n",
            "4               4                           4.0                1   \n",
            "\n",
            "   Percent_Days_Employed  Prior_Arrest_Episodes  \\\n",
            "0                      0                      2   \n",
            "1                      0                      2   \n",
            "2                      0                      2   \n",
            "3                      0                      2   \n",
            "4                      0                      2   \n",
            "\n",
            "   Prior_Arrest_Episodes_Drug_or_Gun_Charges  Recidivism_Arrest_Last_3_Years  \\\n",
            "0                                          0                               0   \n",
            "1                                          1                               1   \n",
            "2                                          1                               1   \n",
            "3                                          0                               0   \n",
            "4                                          1                               1   \n",
            "\n",
            "   Any_Offense  Combined_Offense  \n",
            "0            1                 0  \n",
            "1            1                 1  \n",
            "2            1                 0  \n",
            "3            1                 2  \n",
            "4            1                 1  \n"
          ]
        }
      ]
    }
  ]
}